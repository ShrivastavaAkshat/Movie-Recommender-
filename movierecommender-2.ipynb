{
 "cells": [
  {
   "cell_type": "code",
   "execution_count": 1,
   "id": "736012fb",
   "metadata": {},
   "outputs": [],
   "source": [
    "import pandas as pd\n",
    "import numpy as np\n",
    "import matplotlib.pyplot as plt\n",
    "import seaborn as sns\n",
    "from sklearn.metrics.pairwise import cosine_similarity\n",
    "import pickle as pk"
   ]
  },
  {
   "cell_type": "code",
   "execution_count": 2,
   "id": "082b0f25",
   "metadata": {},
   "outputs": [
    {
     "name": "stderr",
     "output_type": "stream",
     "text": [
      "C:\\Users\\HP\\AppData\\Local\\Temp\\ipykernel_1932\\109856391.py:1: DtypeWarning: Columns (10) have mixed types. Specify dtype option on import or set low_memory=False.\n",
      "  movies = pd.read_csv(\"C:/Users/HP/Documents/5 Semester/MLDL/datasets/movielens/movies_metadata.csv\")\n"
     ]
    }
   ],
   "source": [
    "movies = pd.read_csv(\"C:/Users/HP/Documents/5 Semester/MLDL/datasets/movielens/movies_metadata.csv\")"
   ]
  },
  {
   "cell_type": "code",
   "execution_count": 3,
   "id": "fd0881eb",
   "metadata": {},
   "outputs": [],
   "source": [
    "ratings = pd.read_csv(\"C:/Users/HP/Documents/5 Semester/MLDL/datasets/movielens/ratings_small.csv\")"
   ]
  },
  {
   "cell_type": "code",
   "execution_count": 4,
   "id": "a3220592",
   "metadata": {},
   "outputs": [
    {
     "data": {
      "text/html": [
       "<div>\n",
       "<style scoped>\n",
       "    .dataframe tbody tr th:only-of-type {\n",
       "        vertical-align: middle;\n",
       "    }\n",
       "\n",
       "    .dataframe tbody tr th {\n",
       "        vertical-align: top;\n",
       "    }\n",
       "\n",
       "    .dataframe thead th {\n",
       "        text-align: right;\n",
       "    }\n",
       "</style>\n",
       "<table border=\"1\" class=\"dataframe\">\n",
       "  <thead>\n",
       "    <tr style=\"text-align: right;\">\n",
       "      <th></th>\n",
       "      <th>userId</th>\n",
       "      <th>movieId</th>\n",
       "      <th>rating</th>\n",
       "      <th>timestamp</th>\n",
       "    </tr>\n",
       "  </thead>\n",
       "  <tbody>\n",
       "    <tr>\n",
       "      <th>495</th>\n",
       "      <td>7</td>\n",
       "      <td>1</td>\n",
       "      <td>3.0</td>\n",
       "      <td>851866703</td>\n",
       "    </tr>\n",
       "    <tr>\n",
       "      <th>699</th>\n",
       "      <td>9</td>\n",
       "      <td>1</td>\n",
       "      <td>4.0</td>\n",
       "      <td>938629179</td>\n",
       "    </tr>\n",
       "    <tr>\n",
       "      <th>889</th>\n",
       "      <td>13</td>\n",
       "      <td>1</td>\n",
       "      <td>5.0</td>\n",
       "      <td>1331380058</td>\n",
       "    </tr>\n",
       "    <tr>\n",
       "      <th>962</th>\n",
       "      <td>15</td>\n",
       "      <td>1</td>\n",
       "      <td>2.0</td>\n",
       "      <td>997938310</td>\n",
       "    </tr>\n",
       "    <tr>\n",
       "      <th>3105</th>\n",
       "      <td>19</td>\n",
       "      <td>1</td>\n",
       "      <td>3.0</td>\n",
       "      <td>855190091</td>\n",
       "    </tr>\n",
       "    <tr>\n",
       "      <th>...</th>\n",
       "      <td>...</td>\n",
       "      <td>...</td>\n",
       "      <td>...</td>\n",
       "      <td>...</td>\n",
       "    </tr>\n",
       "    <tr>\n",
       "      <th>98531</th>\n",
       "      <td>660</td>\n",
       "      <td>1</td>\n",
       "      <td>2.5</td>\n",
       "      <td>1436680062</td>\n",
       "    </tr>\n",
       "    <tr>\n",
       "      <th>98714</th>\n",
       "      <td>663</td>\n",
       "      <td>1</td>\n",
       "      <td>4.0</td>\n",
       "      <td>1438397999</td>\n",
       "    </tr>\n",
       "    <tr>\n",
       "      <th>98740</th>\n",
       "      <td>664</td>\n",
       "      <td>1</td>\n",
       "      <td>3.5</td>\n",
       "      <td>1362421730</td>\n",
       "    </tr>\n",
       "    <tr>\n",
       "      <th>99858</th>\n",
       "      <td>670</td>\n",
       "      <td>1</td>\n",
       "      <td>4.0</td>\n",
       "      <td>938782344</td>\n",
       "    </tr>\n",
       "    <tr>\n",
       "      <th>99889</th>\n",
       "      <td>671</td>\n",
       "      <td>1</td>\n",
       "      <td>5.0</td>\n",
       "      <td>1064891129</td>\n",
       "    </tr>\n",
       "  </tbody>\n",
       "</table>\n",
       "<p>247 rows × 4 columns</p>\n",
       "</div>"
      ],
      "text/plain": [
       "       userId  movieId  rating   timestamp\n",
       "495         7        1     3.0   851866703\n",
       "699         9        1     4.0   938629179\n",
       "889        13        1     5.0  1331380058\n",
       "962        15        1     2.0   997938310\n",
       "3105       19        1     3.0   855190091\n",
       "...       ...      ...     ...         ...\n",
       "98531     660        1     2.5  1436680062\n",
       "98714     663        1     4.0  1438397999\n",
       "98740     664        1     3.5  1362421730\n",
       "99858     670        1     4.0   938782344\n",
       "99889     671        1     5.0  1064891129\n",
       "\n",
       "[247 rows x 4 columns]"
      ]
     },
     "execution_count": 4,
     "metadata": {},
     "output_type": "execute_result"
    }
   ],
   "source": [
    "ratings[ratings['movieId']==1]"
   ]
  },
  {
   "cell_type": "code",
   "execution_count": 5,
   "id": "40a94fa5",
   "metadata": {},
   "outputs": [
    {
     "data": {
      "text/html": [
       "<div>\n",
       "<style scoped>\n",
       "    .dataframe tbody tr th:only-of-type {\n",
       "        vertical-align: middle;\n",
       "    }\n",
       "\n",
       "    .dataframe tbody tr th {\n",
       "        vertical-align: top;\n",
       "    }\n",
       "\n",
       "    .dataframe thead th {\n",
       "        text-align: right;\n",
       "    }\n",
       "</style>\n",
       "<table border=\"1\" class=\"dataframe\">\n",
       "  <thead>\n",
       "    <tr style=\"text-align: right;\">\n",
       "      <th></th>\n",
       "      <th>adult</th>\n",
       "      <th>belongs_to_collection</th>\n",
       "      <th>budget</th>\n",
       "      <th>genres</th>\n",
       "      <th>homepage</th>\n",
       "      <th>id</th>\n",
       "      <th>imdb_id</th>\n",
       "      <th>original_language</th>\n",
       "      <th>original_title</th>\n",
       "      <th>overview</th>\n",
       "      <th>...</th>\n",
       "      <th>release_date</th>\n",
       "      <th>revenue</th>\n",
       "      <th>runtime</th>\n",
       "      <th>spoken_languages</th>\n",
       "      <th>status</th>\n",
       "      <th>tagline</th>\n",
       "      <th>title</th>\n",
       "      <th>video</th>\n",
       "      <th>vote_average</th>\n",
       "      <th>vote_count</th>\n",
       "    </tr>\n",
       "  </thead>\n",
       "  <tbody>\n",
       "    <tr>\n",
       "      <th>0</th>\n",
       "      <td>False</td>\n",
       "      <td>{'id': 10194, 'name': 'Toy Story Collection', ...</td>\n",
       "      <td>30000000</td>\n",
       "      <td>[{'id': 16, 'name': 'Animation'}, {'id': 35, '...</td>\n",
       "      <td>http://toystory.disney.com/toy-story</td>\n",
       "      <td>862</td>\n",
       "      <td>tt0114709</td>\n",
       "      <td>en</td>\n",
       "      <td>Toy Story</td>\n",
       "      <td>Led by Woody, Andy's toys live happily in his ...</td>\n",
       "      <td>...</td>\n",
       "      <td>1995-10-30</td>\n",
       "      <td>373554033.0</td>\n",
       "      <td>81.0</td>\n",
       "      <td>[{'iso_639_1': 'en', 'name': 'English'}]</td>\n",
       "      <td>Released</td>\n",
       "      <td>NaN</td>\n",
       "      <td>Toy Story</td>\n",
       "      <td>False</td>\n",
       "      <td>7.7</td>\n",
       "      <td>5415.0</td>\n",
       "    </tr>\n",
       "  </tbody>\n",
       "</table>\n",
       "<p>1 rows × 24 columns</p>\n",
       "</div>"
      ],
      "text/plain": [
       "   adult                              belongs_to_collection    budget  \\\n",
       "0  False  {'id': 10194, 'name': 'Toy Story Collection', ...  30000000   \n",
       "\n",
       "                                              genres  \\\n",
       "0  [{'id': 16, 'name': 'Animation'}, {'id': 35, '...   \n",
       "\n",
       "                               homepage   id    imdb_id original_language  \\\n",
       "0  http://toystory.disney.com/toy-story  862  tt0114709                en   \n",
       "\n",
       "  original_title                                           overview  ...  \\\n",
       "0      Toy Story  Led by Woody, Andy's toys live happily in his ...  ...   \n",
       "\n",
       "  release_date      revenue runtime                          spoken_languages  \\\n",
       "0   1995-10-30  373554033.0    81.0  [{'iso_639_1': 'en', 'name': 'English'}]   \n",
       "\n",
       "     status  tagline      title  video vote_average vote_count  \n",
       "0  Released      NaN  Toy Story  False          7.7     5415.0  \n",
       "\n",
       "[1 rows x 24 columns]"
      ]
     },
     "execution_count": 5,
     "metadata": {},
     "output_type": "execute_result"
    }
   ],
   "source": [
    "movies.head(1)"
   ]
  },
  {
   "cell_type": "code",
   "execution_count": 6,
   "id": "d2abf0c2",
   "metadata": {},
   "outputs": [
    {
     "data": {
      "text/html": [
       "<div>\n",
       "<style scoped>\n",
       "    .dataframe tbody tr th:only-of-type {\n",
       "        vertical-align: middle;\n",
       "    }\n",
       "\n",
       "    .dataframe tbody tr th {\n",
       "        vertical-align: top;\n",
       "    }\n",
       "\n",
       "    .dataframe thead th {\n",
       "        text-align: right;\n",
       "    }\n",
       "</style>\n",
       "<table border=\"1\" class=\"dataframe\">\n",
       "  <thead>\n",
       "    <tr style=\"text-align: right;\">\n",
       "      <th></th>\n",
       "      <th>adult</th>\n",
       "      <th>belongs_to_collection</th>\n",
       "      <th>budget</th>\n",
       "      <th>genres</th>\n",
       "      <th>homepage</th>\n",
       "      <th>id</th>\n",
       "      <th>imdb_id</th>\n",
       "      <th>original_language</th>\n",
       "      <th>original_title</th>\n",
       "      <th>overview</th>\n",
       "      <th>...</th>\n",
       "      <th>release_date</th>\n",
       "      <th>revenue</th>\n",
       "      <th>runtime</th>\n",
       "      <th>spoken_languages</th>\n",
       "      <th>status</th>\n",
       "      <th>tagline</th>\n",
       "      <th>title</th>\n",
       "      <th>video</th>\n",
       "      <th>vote_average</th>\n",
       "      <th>vote_count</th>\n",
       "    </tr>\n",
       "  </thead>\n",
       "  <tbody>\n",
       "  </tbody>\n",
       "</table>\n",
       "<p>0 rows × 24 columns</p>\n",
       "</div>"
      ],
      "text/plain": [
       "Empty DataFrame\n",
       "Columns: [adult, belongs_to_collection, budget, genres, homepage, id, imdb_id, original_language, original_title, overview, popularity, poster_path, production_companies, production_countries, release_date, revenue, runtime, spoken_languages, status, tagline, title, video, vote_average, vote_count]\n",
       "Index: []\n",
       "\n",
       "[0 rows x 24 columns]"
      ]
     },
     "execution_count": 6,
     "metadata": {},
     "output_type": "execute_result"
    }
   ],
   "source": [
    "movies[movies['id'].isin(ratings['movieId'].unique())]"
   ]
  },
  {
   "cell_type": "code",
   "execution_count": 7,
   "id": "8e3d7958",
   "metadata": {},
   "outputs": [
    {
     "data": {
      "text/plain": [
       "9066"
      ]
     },
     "execution_count": 7,
     "metadata": {},
     "output_type": "execute_result"
    }
   ],
   "source": [
    "len(ratings['movieId'].unique())"
   ]
  },
  {
   "cell_type": "code",
   "execution_count": 8,
   "id": "1b6b5f39",
   "metadata": {},
   "outputs": [
    {
     "data": {
      "text/plain": [
       "(100004, 4)"
      ]
     },
     "execution_count": 8,
     "metadata": {},
     "output_type": "execute_result"
    }
   ],
   "source": [
    "ratings.shape"
   ]
  },
  {
   "cell_type": "code",
   "execution_count": 9,
   "id": "eb3b3c90",
   "metadata": {},
   "outputs": [],
   "source": [
    "pivot_table = ratings.pivot_table(index='userId',columns='movieId',values='rating',fill_value=0)"
   ]
  },
  {
   "cell_type": "code",
   "execution_count": 10,
   "id": "3f47d8be",
   "metadata": {},
   "outputs": [
    {
     "data": {
      "text/html": [
       "<div>\n",
       "<style scoped>\n",
       "    .dataframe tbody tr th:only-of-type {\n",
       "        vertical-align: middle;\n",
       "    }\n",
       "\n",
       "    .dataframe tbody tr th {\n",
       "        vertical-align: top;\n",
       "    }\n",
       "\n",
       "    .dataframe thead th {\n",
       "        text-align: right;\n",
       "    }\n",
       "</style>\n",
       "<table border=\"1\" class=\"dataframe\">\n",
       "  <thead>\n",
       "    <tr style=\"text-align: right;\">\n",
       "      <th>movieId</th>\n",
       "      <th>1</th>\n",
       "      <th>2</th>\n",
       "      <th>3</th>\n",
       "      <th>4</th>\n",
       "      <th>5</th>\n",
       "      <th>6</th>\n",
       "      <th>7</th>\n",
       "      <th>8</th>\n",
       "      <th>9</th>\n",
       "      <th>10</th>\n",
       "      <th>...</th>\n",
       "      <th>161084</th>\n",
       "      <th>161155</th>\n",
       "      <th>161594</th>\n",
       "      <th>161830</th>\n",
       "      <th>161918</th>\n",
       "      <th>161944</th>\n",
       "      <th>162376</th>\n",
       "      <th>162542</th>\n",
       "      <th>162672</th>\n",
       "      <th>163949</th>\n",
       "    </tr>\n",
       "    <tr>\n",
       "      <th>userId</th>\n",
       "      <th></th>\n",
       "      <th></th>\n",
       "      <th></th>\n",
       "      <th></th>\n",
       "      <th></th>\n",
       "      <th></th>\n",
       "      <th></th>\n",
       "      <th></th>\n",
       "      <th></th>\n",
       "      <th></th>\n",
       "      <th></th>\n",
       "      <th></th>\n",
       "      <th></th>\n",
       "      <th></th>\n",
       "      <th></th>\n",
       "      <th></th>\n",
       "      <th></th>\n",
       "      <th></th>\n",
       "      <th></th>\n",
       "      <th></th>\n",
       "      <th></th>\n",
       "    </tr>\n",
       "  </thead>\n",
       "  <tbody>\n",
       "    <tr>\n",
       "      <th>1</th>\n",
       "      <td>0.0</td>\n",
       "      <td>0.0</td>\n",
       "      <td>0.0</td>\n",
       "      <td>0.0</td>\n",
       "      <td>0.0</td>\n",
       "      <td>0.0</td>\n",
       "      <td>0.0</td>\n",
       "      <td>0</td>\n",
       "      <td>0</td>\n",
       "      <td>0.0</td>\n",
       "      <td>...</td>\n",
       "      <td>0.0</td>\n",
       "      <td>0.0</td>\n",
       "      <td>0</td>\n",
       "      <td>0</td>\n",
       "      <td>0.0</td>\n",
       "      <td>0</td>\n",
       "      <td>0.0</td>\n",
       "      <td>0</td>\n",
       "      <td>0</td>\n",
       "      <td>0</td>\n",
       "    </tr>\n",
       "    <tr>\n",
       "      <th>2</th>\n",
       "      <td>0.0</td>\n",
       "      <td>0.0</td>\n",
       "      <td>0.0</td>\n",
       "      <td>0.0</td>\n",
       "      <td>0.0</td>\n",
       "      <td>0.0</td>\n",
       "      <td>0.0</td>\n",
       "      <td>0</td>\n",
       "      <td>0</td>\n",
       "      <td>4.0</td>\n",
       "      <td>...</td>\n",
       "      <td>0.0</td>\n",
       "      <td>0.0</td>\n",
       "      <td>0</td>\n",
       "      <td>0</td>\n",
       "      <td>0.0</td>\n",
       "      <td>0</td>\n",
       "      <td>0.0</td>\n",
       "      <td>0</td>\n",
       "      <td>0</td>\n",
       "      <td>0</td>\n",
       "    </tr>\n",
       "    <tr>\n",
       "      <th>3</th>\n",
       "      <td>0.0</td>\n",
       "      <td>0.0</td>\n",
       "      <td>0.0</td>\n",
       "      <td>0.0</td>\n",
       "      <td>0.0</td>\n",
       "      <td>0.0</td>\n",
       "      <td>0.0</td>\n",
       "      <td>0</td>\n",
       "      <td>0</td>\n",
       "      <td>0.0</td>\n",
       "      <td>...</td>\n",
       "      <td>0.0</td>\n",
       "      <td>0.0</td>\n",
       "      <td>0</td>\n",
       "      <td>0</td>\n",
       "      <td>0.0</td>\n",
       "      <td>0</td>\n",
       "      <td>0.0</td>\n",
       "      <td>0</td>\n",
       "      <td>0</td>\n",
       "      <td>0</td>\n",
       "    </tr>\n",
       "    <tr>\n",
       "      <th>4</th>\n",
       "      <td>0.0</td>\n",
       "      <td>0.0</td>\n",
       "      <td>0.0</td>\n",
       "      <td>0.0</td>\n",
       "      <td>0.0</td>\n",
       "      <td>0.0</td>\n",
       "      <td>0.0</td>\n",
       "      <td>0</td>\n",
       "      <td>0</td>\n",
       "      <td>4.0</td>\n",
       "      <td>...</td>\n",
       "      <td>0.0</td>\n",
       "      <td>0.0</td>\n",
       "      <td>0</td>\n",
       "      <td>0</td>\n",
       "      <td>0.0</td>\n",
       "      <td>0</td>\n",
       "      <td>0.0</td>\n",
       "      <td>0</td>\n",
       "      <td>0</td>\n",
       "      <td>0</td>\n",
       "    </tr>\n",
       "    <tr>\n",
       "      <th>5</th>\n",
       "      <td>0.0</td>\n",
       "      <td>0.0</td>\n",
       "      <td>4.0</td>\n",
       "      <td>0.0</td>\n",
       "      <td>0.0</td>\n",
       "      <td>0.0</td>\n",
       "      <td>0.0</td>\n",
       "      <td>0</td>\n",
       "      <td>0</td>\n",
       "      <td>0.0</td>\n",
       "      <td>...</td>\n",
       "      <td>0.0</td>\n",
       "      <td>0.0</td>\n",
       "      <td>0</td>\n",
       "      <td>0</td>\n",
       "      <td>0.0</td>\n",
       "      <td>0</td>\n",
       "      <td>0.0</td>\n",
       "      <td>0</td>\n",
       "      <td>0</td>\n",
       "      <td>0</td>\n",
       "    </tr>\n",
       "    <tr>\n",
       "      <th>...</th>\n",
       "      <td>...</td>\n",
       "      <td>...</td>\n",
       "      <td>...</td>\n",
       "      <td>...</td>\n",
       "      <td>...</td>\n",
       "      <td>...</td>\n",
       "      <td>...</td>\n",
       "      <td>...</td>\n",
       "      <td>...</td>\n",
       "      <td>...</td>\n",
       "      <td>...</td>\n",
       "      <td>...</td>\n",
       "      <td>...</td>\n",
       "      <td>...</td>\n",
       "      <td>...</td>\n",
       "      <td>...</td>\n",
       "      <td>...</td>\n",
       "      <td>...</td>\n",
       "      <td>...</td>\n",
       "      <td>...</td>\n",
       "      <td>...</td>\n",
       "    </tr>\n",
       "    <tr>\n",
       "      <th>667</th>\n",
       "      <td>0.0</td>\n",
       "      <td>0.0</td>\n",
       "      <td>0.0</td>\n",
       "      <td>0.0</td>\n",
       "      <td>0.0</td>\n",
       "      <td>4.0</td>\n",
       "      <td>0.0</td>\n",
       "      <td>0</td>\n",
       "      <td>0</td>\n",
       "      <td>0.0</td>\n",
       "      <td>...</td>\n",
       "      <td>0.0</td>\n",
       "      <td>0.0</td>\n",
       "      <td>0</td>\n",
       "      <td>0</td>\n",
       "      <td>0.0</td>\n",
       "      <td>0</td>\n",
       "      <td>0.0</td>\n",
       "      <td>0</td>\n",
       "      <td>0</td>\n",
       "      <td>0</td>\n",
       "    </tr>\n",
       "    <tr>\n",
       "      <th>668</th>\n",
       "      <td>0.0</td>\n",
       "      <td>0.0</td>\n",
       "      <td>0.0</td>\n",
       "      <td>0.0</td>\n",
       "      <td>0.0</td>\n",
       "      <td>0.0</td>\n",
       "      <td>0.0</td>\n",
       "      <td>0</td>\n",
       "      <td>0</td>\n",
       "      <td>0.0</td>\n",
       "      <td>...</td>\n",
       "      <td>0.0</td>\n",
       "      <td>0.0</td>\n",
       "      <td>0</td>\n",
       "      <td>0</td>\n",
       "      <td>0.0</td>\n",
       "      <td>0</td>\n",
       "      <td>0.0</td>\n",
       "      <td>0</td>\n",
       "      <td>0</td>\n",
       "      <td>0</td>\n",
       "    </tr>\n",
       "    <tr>\n",
       "      <th>669</th>\n",
       "      <td>0.0</td>\n",
       "      <td>0.0</td>\n",
       "      <td>0.0</td>\n",
       "      <td>0.0</td>\n",
       "      <td>0.0</td>\n",
       "      <td>0.0</td>\n",
       "      <td>0.0</td>\n",
       "      <td>0</td>\n",
       "      <td>0</td>\n",
       "      <td>0.0</td>\n",
       "      <td>...</td>\n",
       "      <td>0.0</td>\n",
       "      <td>0.0</td>\n",
       "      <td>0</td>\n",
       "      <td>0</td>\n",
       "      <td>0.0</td>\n",
       "      <td>0</td>\n",
       "      <td>0.0</td>\n",
       "      <td>0</td>\n",
       "      <td>0</td>\n",
       "      <td>0</td>\n",
       "    </tr>\n",
       "    <tr>\n",
       "      <th>670</th>\n",
       "      <td>4.0</td>\n",
       "      <td>0.0</td>\n",
       "      <td>0.0</td>\n",
       "      <td>0.0</td>\n",
       "      <td>0.0</td>\n",
       "      <td>0.0</td>\n",
       "      <td>0.0</td>\n",
       "      <td>0</td>\n",
       "      <td>0</td>\n",
       "      <td>0.0</td>\n",
       "      <td>...</td>\n",
       "      <td>0.0</td>\n",
       "      <td>0.0</td>\n",
       "      <td>0</td>\n",
       "      <td>0</td>\n",
       "      <td>0.0</td>\n",
       "      <td>0</td>\n",
       "      <td>0.0</td>\n",
       "      <td>0</td>\n",
       "      <td>0</td>\n",
       "      <td>0</td>\n",
       "    </tr>\n",
       "    <tr>\n",
       "      <th>671</th>\n",
       "      <td>5.0</td>\n",
       "      <td>0.0</td>\n",
       "      <td>0.0</td>\n",
       "      <td>0.0</td>\n",
       "      <td>0.0</td>\n",
       "      <td>0.0</td>\n",
       "      <td>0.0</td>\n",
       "      <td>0</td>\n",
       "      <td>0</td>\n",
       "      <td>0.0</td>\n",
       "      <td>...</td>\n",
       "      <td>0.0</td>\n",
       "      <td>0.0</td>\n",
       "      <td>0</td>\n",
       "      <td>0</td>\n",
       "      <td>0.0</td>\n",
       "      <td>0</td>\n",
       "      <td>0.0</td>\n",
       "      <td>0</td>\n",
       "      <td>0</td>\n",
       "      <td>0</td>\n",
       "    </tr>\n",
       "  </tbody>\n",
       "</table>\n",
       "<p>671 rows × 9066 columns</p>\n",
       "</div>"
      ],
      "text/plain": [
       "movieId  1       2       3       4       5       6       7       8       \\\n",
       "userId                                                                    \n",
       "1           0.0     0.0     0.0     0.0     0.0     0.0     0.0       0   \n",
       "2           0.0     0.0     0.0     0.0     0.0     0.0     0.0       0   \n",
       "3           0.0     0.0     0.0     0.0     0.0     0.0     0.0       0   \n",
       "4           0.0     0.0     0.0     0.0     0.0     0.0     0.0       0   \n",
       "5           0.0     0.0     4.0     0.0     0.0     0.0     0.0       0   \n",
       "...         ...     ...     ...     ...     ...     ...     ...     ...   \n",
       "667         0.0     0.0     0.0     0.0     0.0     4.0     0.0       0   \n",
       "668         0.0     0.0     0.0     0.0     0.0     0.0     0.0       0   \n",
       "669         0.0     0.0     0.0     0.0     0.0     0.0     0.0       0   \n",
       "670         4.0     0.0     0.0     0.0     0.0     0.0     0.0       0   \n",
       "671         5.0     0.0     0.0     0.0     0.0     0.0     0.0       0   \n",
       "\n",
       "movieId  9       10      ...  161084  161155  161594  161830  161918  161944  \\\n",
       "userId                   ...                                                   \n",
       "1             0     0.0  ...     0.0     0.0       0       0     0.0       0   \n",
       "2             0     4.0  ...     0.0     0.0       0       0     0.0       0   \n",
       "3             0     0.0  ...     0.0     0.0       0       0     0.0       0   \n",
       "4             0     4.0  ...     0.0     0.0       0       0     0.0       0   \n",
       "5             0     0.0  ...     0.0     0.0       0       0     0.0       0   \n",
       "...         ...     ...  ...     ...     ...     ...     ...     ...     ...   \n",
       "667           0     0.0  ...     0.0     0.0       0       0     0.0       0   \n",
       "668           0     0.0  ...     0.0     0.0       0       0     0.0       0   \n",
       "669           0     0.0  ...     0.0     0.0       0       0     0.0       0   \n",
       "670           0     0.0  ...     0.0     0.0       0       0     0.0       0   \n",
       "671           0     0.0  ...     0.0     0.0       0       0     0.0       0   \n",
       "\n",
       "movieId  162376  162542  162672  163949  \n",
       "userId                                   \n",
       "1           0.0       0       0       0  \n",
       "2           0.0       0       0       0  \n",
       "3           0.0       0       0       0  \n",
       "4           0.0       0       0       0  \n",
       "5           0.0       0       0       0  \n",
       "...         ...     ...     ...     ...  \n",
       "667         0.0       0       0       0  \n",
       "668         0.0       0       0       0  \n",
       "669         0.0       0       0       0  \n",
       "670         0.0       0       0       0  \n",
       "671         0.0       0       0       0  \n",
       "\n",
       "[671 rows x 9066 columns]"
      ]
     },
     "execution_count": 10,
     "metadata": {},
     "output_type": "execute_result"
    }
   ],
   "source": [
    "pivot_table"
   ]
  },
  {
   "cell_type": "code",
   "execution_count": 67,
   "id": "3ed22d0d",
   "metadata": {},
   "outputs": [],
   "source": [
    "collabrative_similarity_score = cosine_similarity(pivot_table)"
   ]
  },
  {
   "cell_type": "code",
   "execution_count": 74,
   "id": "20776d54",
   "metadata": {},
   "outputs": [
    {
     "data": {
      "text/plain": [
       "[(62, 1.0),\n",
       " (561, 0.34767174455000727),\n",
       " (267, 0.3362353157680435),\n",
       " (344, 0.3311548308946743),\n",
       " (606, 0.3154319918164485),\n",
       " (270, 0.31449385999011964)]"
      ]
     },
     "execution_count": 74,
     "metadata": {},
     "output_type": "execute_result"
    }
   ],
   "source": [
    "sorted(list(enumerate(collabrative_similarity_score[62])),key=lambda x:x[1] , reverse=True)[:6]"
   ]
  },
  {
   "cell_type": "code",
   "execution_count": 48,
   "id": "f87911d4",
   "metadata": {},
   "outputs": [
    {
     "data": {
      "text/plain": [
       "Index(['adult', 'belongs_to_collection', 'budget', 'genres', 'homepage', 'id',\n",
       "       'imdb_id', 'original_language', 'original_title', 'overview',\n",
       "       'popularity', 'poster_path', 'production_companies',\n",
       "       'production_countries', 'release_date', 'revenue', 'runtime',\n",
       "       'spoken_languages', 'status', 'tagline', 'title', 'video',\n",
       "       'vote_average', 'vote_count'],\n",
       "      dtype='object')"
      ]
     },
     "execution_count": 48,
     "metadata": {},
     "output_type": "execute_result"
    }
   ],
   "source": [
    "# movies[movies['id']=='378'][['genres','id','title','vote_average']]\n",
    "movies.columns"
   ]
  },
  {
   "cell_type": "code",
   "execution_count": 14,
   "id": "be15bd19",
   "metadata": {},
   "outputs": [],
   "source": [
    "# pivot_table"
   ]
  },
  {
   "cell_type": "code",
   "execution_count": 69,
   "id": "7983355e",
   "metadata": {},
   "outputs": [],
   "source": [
    "def recommend_movie(user_id):\n",
    "    recomm_movies = sorted(list(enumerate(collabrative_similarity_score[user_id])),key=lambda x:x[1] , reverse=True)[:6]\n",
    "    movie_ids = [str(i[0]) for i in recomm_movies]\n",
    "    \n",
    "    recommended_movies = []\n",
    "    \n",
    "    for i in range(len(movie_ids)):\n",
    "        movie_detail = []\n",
    "        movie_detail.extend(list(movies[movies['id']==movie_ids[i]][['id','title','vote_average','poster_path']].values))\n",
    "        \n",
    "        recommended_movies.append(movie_detail)\n",
    "    \n",
    "    return recommended_movies"
   ]
  },
  {
   "cell_type": "code",
   "execution_count": 70,
   "id": "5adb81a0",
   "metadata": {},
   "outputs": [
    {
     "data": {
      "text/plain": [
       "[[array(['378', 'Raising Arizona', 7.2, '/jsBg2bhvbSncyezo9sMntMzBuy6.jpg'],\n",
       "        dtype=object)],\n",
       " [array(['123', 'The Lord of the Rings', 6.1,\n",
       "         '/1l3WpoF7TX9pOprX4XepCXjQXUV.jpg'], dtype=object)],\n",
       " [],\n",
       " [array(['583', 'Life of Brian', 7.7, '/cKpJnXJ6DzAGafAjUWB5PjT904O.jpg'],\n",
       "        dtype=object)],\n",
       " [array(['93', 'Anatomy of a Murder', 7.7,\n",
       "         '/kDFnM2zlHZirR2ItTo56lyrxuAS.jpg'], dtype=object)],\n",
       " []]"
      ]
     },
     "execution_count": 70,
     "metadata": {},
     "output_type": "execute_result"
    }
   ],
   "source": [
    "recommend_movie(378)"
   ]
  },
  {
   "cell_type": "markdown",
   "id": "17f95fc3",
   "metadata": {},
   "source": [
    "#### Dump pickle file"
   ]
  },
  {
   "cell_type": "code",
   "execution_count": 73,
   "id": "61c18893",
   "metadata": {},
   "outputs": [],
   "source": [
    "# pk.dump(movies, open('coll_movies.pkl','wb'))\n",
    "# pk.dump(collabrative_similarity_score, open('collabrative_similarity_score.pkl','wb'))"
   ]
  },
  {
   "cell_type": "code",
   "execution_count": 9,
   "id": "906cb1db",
   "metadata": {},
   "outputs": [
    {
     "name": "stdout",
     "output_type": "stream",
     "text": [
      "{'id': {1881: 278, 3337: 238, 3232: 680, 2731: 240, 2294: 129, 1818: 424, 3865: 244786, 662: 550, 690: 497, 3719: 510, 1663: 311, 809: 13, 2247: 128, 3057: 73, 2170: 539, 1847: 769, 65: 155, 4602: 389, 1990: 1891, 1987: 4935}, 'title': {1881: 'The Shawshank Redemption', 3337: 'The Godfather', 3232: 'Pulp Fiction', 2731: 'The Godfather: Part II', 2294: 'Spirited Away', 1818: \"Schindler's List\", 3865: 'Whiplash', 662: 'Fight Club', 690: 'The Green Mile', 3719: \"One Flew Over the Cuckoo's Nest\", 1663: 'Once Upon a Time in America', 809: 'Forrest Gump', 2247: 'Princess Mononoke', 3057: 'American History X', 2170: 'Psycho', 1847: 'GoodFellas', 65: 'The Dark Knight', 4602: '12 Angry Men', 1990: 'The Empire Strikes Back', 1987: \"Howl's Moving Castle\"}, 'vote_average': {1881: 8.5, 3337: 8.4, 3232: 8.3, 2731: 8.3, 2294: 8.3, 1818: 8.3, 3865: 8.3, 662: 8.3, 690: 8.2, 3719: 8.2, 1663: 8.2, 809: 8.2, 2247: 8.2, 3057: 8.2, 2170: 8.2, 1847: 8.2, 65: 8.2, 4602: 8.2, 1990: 8.2, 1987: 8.2}}\n",
      "278\n",
      "238\n",
      "680\n",
      "240\n",
      "129\n",
      "424\n",
      "244786\n",
      "550\n",
      "497\n",
      "510\n",
      "311\n",
      "13\n",
      "128\n",
      "73\n",
      "539\n",
      "769\n",
      "155\n",
      "389\n",
      "1891\n",
      "4935\n"
     ]
    }
   ],
   "source": [
    "with open('C:/Users/HP/PythonScriptsML/trending_movies_20.pkl', 'rb') as file:\n",
    "    m = pk.load(file)\n",
    "print(m)\n",
    "for i in m['id'].items():\n",
    "    print(i[1])"
   ]
  },
  {
   "cell_type": "code",
   "execution_count": null,
   "id": "f68e33f0",
   "metadata": {},
   "outputs": [],
   "source": []
  },
  {
   "cell_type": "code",
   "execution_count": null,
   "id": "41cf2566",
   "metadata": {},
   "outputs": [],
   "source": []
  },
  {
   "cell_type": "markdown",
   "id": "c4960a66",
   "metadata": {},
   "source": [
    "### Little wrong process followed"
   ]
  },
  {
   "cell_type": "code",
   "execution_count": null,
   "id": "22968d86",
   "metadata": {},
   "outputs": [],
   "source": [
    "# movies.head()"
   ]
  },
  {
   "cell_type": "code",
   "execution_count": null,
   "id": "9b8e5ec2",
   "metadata": {},
   "outputs": [],
   "source": [
    "# movies.rename(columns={'id': 'movieId'}, inplace=True)"
   ]
  },
  {
   "cell_type": "code",
   "execution_count": null,
   "id": "ac0a0a6a",
   "metadata": {},
   "outputs": [],
   "source": [
    "# movies = movies.drop(movies[movies['movieId']=='2012-09-29'].index)"
   ]
  },
  {
   "cell_type": "code",
   "execution_count": null,
   "id": "9404b512",
   "metadata": {},
   "outputs": [],
   "source": [
    "# movies['movieId'] = movies['movieId'].astype('int64')"
   ]
  },
  {
   "cell_type": "code",
   "execution_count": null,
   "id": "633e41e9",
   "metadata": {},
   "outputs": [],
   "source": [
    "# movies.shape"
   ]
  },
  {
   "cell_type": "code",
   "execution_count": null,
   "id": "0b391251",
   "metadata": {},
   "outputs": [],
   "source": [
    "# len(ratings['movieId'].unique())"
   ]
  },
  {
   "cell_type": "code",
   "execution_count": null,
   "id": "02d02445",
   "metadata": {},
   "outputs": [],
   "source": [
    "# movies.columns"
   ]
  },
  {
   "cell_type": "code",
   "execution_count": null,
   "id": "82d9af27",
   "metadata": {},
   "outputs": [],
   "source": [
    "# new_movies = movies[movies['vote_count']>100][['movieId','title','imdb_id','poster_path','vote_average']]"
   ]
  },
  {
   "cell_type": "code",
   "execution_count": null,
   "id": "742b70a1",
   "metadata": {},
   "outputs": [],
   "source": [
    "# movie_ids = [int(x) for x in new_movies['movieId'].values]"
   ]
  },
  {
   "cell_type": "code",
   "execution_count": null,
   "id": "69659327",
   "metadata": {},
   "outputs": [],
   "source": [
    "# new_ratings = ratings[ratings['movieId'].isin(movie_ids)]"
   ]
  },
  {
   "cell_type": "code",
   "execution_count": null,
   "id": "2809dd40",
   "metadata": {},
   "outputs": [],
   "source": [
    "# new_ratings"
   ]
  },
  {
   "cell_type": "code",
   "execution_count": null,
   "id": "902fa8bc",
   "metadata": {},
   "outputs": [],
   "source": [
    "# user who have rated more than 50 movies will be considered"
   ]
  },
  {
   "cell_type": "code",
   "execution_count": null,
   "id": "4e8ec015",
   "metadata": {},
   "outputs": [],
   "source": [
    "# user_rating_count = new_ratings.groupby('userId').size()"
   ]
  },
  {
   "cell_type": "code",
   "execution_count": null,
   "id": "59b533b8",
   "metadata": {},
   "outputs": [],
   "source": [
    "# filtered_df = new_ratings[new_ratings['userId'].isin(user_rating_count[user_rating_count > 50].index)]"
   ]
  },
  {
   "cell_type": "code",
   "execution_count": null,
   "id": "4d93bf86",
   "metadata": {},
   "outputs": [],
   "source": [
    "# filtered_df.groupby('userId').size()"
   ]
  },
  {
   "cell_type": "code",
   "execution_count": null,
   "id": "3778e867",
   "metadata": {},
   "outputs": [],
   "source": [
    "# filtered_df"
   ]
  },
  {
   "cell_type": "code",
   "execution_count": null,
   "id": "a253943b",
   "metadata": {},
   "outputs": [],
   "source": [
    "# new_ratings.groupby('movieId').size()"
   ]
  },
  {
   "cell_type": "code",
   "execution_count": null,
   "id": "9697ae41",
   "metadata": {},
   "outputs": [],
   "source": [
    "# new_ratings.info()"
   ]
  },
  {
   "cell_type": "code",
   "execution_count": null,
   "id": "4c2d0482",
   "metadata": {},
   "outputs": [],
   "source": [
    "# movies.info()"
   ]
  },
  {
   "cell_type": "code",
   "execution_count": null,
   "id": "fbae2015",
   "metadata": {},
   "outputs": [],
   "source": []
  },
  {
   "cell_type": "code",
   "execution_count": null,
   "id": "c95a97e3",
   "metadata": {},
   "outputs": [],
   "source": [
    "# filtered_df['movieId'] = filtered_df['movieId'].drop_duplicates()"
   ]
  },
  {
   "cell_type": "code",
   "execution_count": null,
   "id": "34aaf780",
   "metadata": {},
   "outputs": [],
   "source": [
    "# filtered_df.dropna(inplace=True)"
   ]
  },
  {
   "cell_type": "code",
   "execution_count": null,
   "id": "a333dedc",
   "metadata": {},
   "outputs": [],
   "source": [
    "# filtered_df['rating'] = filtered_df['rating'].astype('float')"
   ]
  },
  {
   "cell_type": "code",
   "execution_count": null,
   "id": "cac91ed5",
   "metadata": {},
   "outputs": [],
   "source": [
    "# movies.isnull().sum()"
   ]
  },
  {
   "cell_type": "code",
   "execution_count": null,
   "id": "8bd4cfe9",
   "metadata": {},
   "outputs": [],
   "source": [
    "# filtered_df.merge(movies, on='movieId')\n",
    "# pd.concat([filtered_df, movies])[['userId','movieId','rating','original_title']]"
   ]
  },
  {
   "cell_type": "code",
   "execution_count": null,
   "id": "8c216424",
   "metadata": {},
   "outputs": [],
   "source": [
    "# filtered_df.isnull().sum()"
   ]
  },
  {
   "cell_type": "code",
   "execution_count": null,
   "id": "44e91ec2",
   "metadata": {},
   "outputs": [],
   "source": [
    "# pt = filtered_df.pivot_table(index='movieId',columns='userId',values='rating',fill_value=0)"
   ]
  },
  {
   "cell_type": "code",
   "execution_count": null,
   "id": "d194e8cc",
   "metadata": {},
   "outputs": [],
   "source": [
    "# pt"
   ]
  },
  {
   "cell_type": "code",
   "execution_count": null,
   "id": "eb910cff",
   "metadata": {},
   "outputs": [],
   "source": [
    "# pt.columns"
   ]
  },
  {
   "cell_type": "code",
   "execution_count": null,
   "id": "893cda81",
   "metadata": {},
   "outputs": [],
   "source": []
  },
  {
   "cell_type": "code",
   "execution_count": null,
   "id": "9f03df10",
   "metadata": {},
   "outputs": [],
   "source": [
    "# similarity_score = cosine_similarity(pt)"
   ]
  },
  {
   "cell_type": "code",
   "execution_count": null,
   "id": "38d6badd",
   "metadata": {},
   "outputs": [],
   "source": [
    "# similarity_score[8]"
   ]
  },
  {
   "cell_type": "code",
   "execution_count": null,
   "id": "d49033a6",
   "metadata": {},
   "outputs": [],
   "source": [
    "# filtered_df[filtered_df['movieId']==15].index[0]"
   ]
  },
  {
   "cell_type": "code",
   "execution_count": null,
   "id": "7ff79e6d",
   "metadata": {},
   "outputs": [],
   "source": []
  },
  {
   "cell_type": "code",
   "execution_count": null,
   "id": "18114b2f",
   "metadata": {},
   "outputs": [],
   "source": []
  }
 ],
 "metadata": {
  "kernelspec": {
   "display_name": "Python 3 (ipykernel)",
   "language": "python",
   "name": "python3"
  },
  "language_info": {
   "codemirror_mode": {
    "name": "ipython",
    "version": 3
   },
   "file_extension": ".py",
   "mimetype": "text/x-python",
   "name": "python",
   "nbconvert_exporter": "python",
   "pygments_lexer": "ipython3",
   "version": "3.9.13"
  }
 },
 "nbformat": 4,
 "nbformat_minor": 5
}
